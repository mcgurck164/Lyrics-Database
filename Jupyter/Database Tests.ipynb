{
 "cells": [
  {
   "cell_type": "code",
   "execution_count": 1,
   "metadata": {},
   "outputs": [],
   "source": [
    "import pandas as pd\n",
    "import sqlite3\n",
    "import os"
   ]
  },
  {
   "cell_type": "code",
   "execution_count": 2,
   "metadata": {},
   "outputs": [],
   "source": [
    "DB_NAME = \"test.db\""
   ]
  },
  {
   "cell_type": "code",
   "execution_count": 3,
   "metadata": {},
   "outputs": [],
   "source": [
    "con = sqlite3.connect(DB_NAME)\n",
    "cur = con.cursor()"
   ]
  },
  {
   "cell_type": "code",
   "execution_count": 4,
   "metadata": {},
   "outputs": [],
   "source": [
    "sql = \"CREATE TABLE IF NOT EXISTS Songs (\"\\\n",
    "        \"id             INTEGER PRIMARY KEY,\"\\\n",
    "        \"artist         TEXT,\"\\\n",
    "        \"record         TEXT,\"\\\n",
    "        \"year           INTEGER,\"\\\n",
    "        \"song_title     TEXT,\"\\\n",
    "        \"lyrics         TEXT,\"\\\n",
    "        \"link_to_lyrics TEXT)\"\n",
    "cur.execute(sql);"
   ]
  },
  {
   "cell_type": "code",
   "execution_count": 5,
   "metadata": {},
   "outputs": [],
   "source": [
    "sql = \"DELETE FROM Songs\"\n",
    "cur.execute(sql);"
   ]
  },
  {
   "cell_type": "code",
   "execution_count": 6,
   "metadata": {},
   "outputs": [],
   "source": [
    "def add_song(artist=\"\", record=\"\", year=0, \n",
    "             song_title=\"\", lyrics=\"\", link_to_lyrics=\"\"):\n",
    "    sql = \"INSERT INTO Songs (artist,\"\\\n",
    "                              \"record,\"\\\n",
    "                              \"year,\"\\\n",
    "                              \"song_title,\"\\\n",
    "                              \"lyrics,\"\\\n",
    "                              \"link_to_lyrics) \"\\\n",
    "          \"VALUES (?, ?, ?, ?, ?, ?)\"\n",
    "    vals = (artist, record, year, song_title,\n",
    "            lyrics, link_to_lyrics)\n",
    "    cur.execute(sql, vals)\n",
    "    con.commit()\n",
    "    return True"
   ]
  },
  {
   "cell_type": "code",
   "execution_count": 7,
   "metadata": {},
   "outputs": [],
   "source": [
    "def add_from_dataframe(df, col_artist=\"artist\", col_record=\"record\",\n",
    "                       col_year=\"year\", col_song_title=\"song_title\",\n",
    "                       col_lyrics=\"lyrics\", \n",
    "                       col_link_to_lyrics=\"link_to_lyrics\"):\n",
    "    for idx, row in df.iterrows():\n",
    "        artist         = row[col_artist]\n",
    "        record         = row[col_record]\n",
    "        year           = row[col_year]\n",
    "        year           = int(year) if str(year).isnumeric() else 0\n",
    "        song_title     = row[col_song_title]\n",
    "        lyrics         = row[col_lyrics]\n",
    "        link_to_lyrics = row[col_link_to_lyrics]\n",
    "\n",
    "        add_song(artist         = artist, \n",
    "                 record         = record, \n",
    "                 year           = year, \n",
    "                 song_title     = song_title,\n",
    "                 lyrics         = lyrics,\n",
    "                 link_to_lyrics = link_to_lyrics)"
   ]
  },
  {
   "cell_type": "code",
   "execution_count": 8,
   "metadata": {},
   "outputs": [],
   "source": [
    "df = pd.read_csv(os.getcwd() + \"//songs.csv\")"
   ]
  },
  {
   "cell_type": "code",
   "execution_count": 9,
   "metadata": {},
   "outputs": [],
   "source": [
    "add_from_dataframe(df, col_artist=\"Artist\", col_record=\"Album\",\n",
    "                   col_year=\"Year\", col_song_title=\"Title\",\n",
    "                   col_lyrics=\"Lyrics\", col_link_to_lyrics=\"Link\")"
   ]
  },
  {
   "cell_type": "code",
   "execution_count": 10,
   "metadata": {},
   "outputs": [],
   "source": [
    "def query_db(sql_qry=\"SELECT * FROM Songs\"):\n",
    "    cur.execute(sql_qry)\n",
    "    return cur.fetchall()"
   ]
  },
  {
   "cell_type": "code",
   "execution_count": 11,
   "metadata": {},
   "outputs": [],
   "source": [
    "def search_song(song_title=\"\", record=\"\", artist=\"\"):\n",
    "    sql = (f\"SELECT id, song_title FROM Songs \"\n",
    "           f\"WHERE (song_title LIKE '%{song_title}%') \"\n",
    "           f\"AND (record LIKE '%{record}%') \"\n",
    "           f\"AND (artist LIKE '%{artist}%')\")\n",
    "    return query_db(sql)"
   ]
  },
  {
   "cell_type": "code",
   "execution_count": 12,
   "metadata": {},
   "outputs": [],
   "source": [
    "l = search_song(record=\"Queen\")"
   ]
  },
  {
   "cell_type": "code",
   "execution_count": 13,
   "metadata": {},
   "outputs": [
    {
     "name": "stdout",
     "output_type": "stream",
     "text": [
      "0 (1, 'Senor and the Queen')\n",
      "1 (2, 'Wherefore Art Thou, Elvis?')\n",
      "2 (3, \"Say I Won't (Recognize)\")\n",
      "3 (4, 'Blue Jeans and White T-Shirts')\n"
     ]
    }
   ],
   "source": [
    "for idx, item in enumerate(l):\n",
    "    print(idx, item)"
   ]
  },
  {
   "cell_type": "code",
   "execution_count": 15,
   "metadata": {},
   "outputs": [
    {
     "data": {
      "text/plain": [
       "[(0, 1), (1, 2), (2, 3), (3, 4)]"
      ]
     },
     "execution_count": 15,
     "metadata": {},
     "output_type": "execute_result"
    }
   ],
   "source": [
    "[(idx, item[0]) for idx, item in enumerate(l)]"
   ]
  },
  {
   "cell_type": "code",
   "execution_count": 16,
   "metadata": {},
   "outputs": [
    {
     "data": {
      "text/plain": [
       "[(39, '\"45\"')]"
      ]
     },
     "execution_count": 16,
     "metadata": {},
     "output_type": "execute_result"
    }
   ],
   "source": [
    "search_song(song_title=45)"
   ]
  },
  {
   "cell_type": "code",
   "execution_count": null,
   "metadata": {},
   "outputs": [],
   "source": []
  }
 ],
 "metadata": {
  "kernelspec": {
   "display_name": "Python 3",
   "language": "python",
   "name": "python3"
  },
  "language_info": {
   "codemirror_mode": {
    "name": "ipython",
    "version": 3
   },
   "file_extension": ".py",
   "mimetype": "text/x-python",
   "name": "python",
   "nbconvert_exporter": "python",
   "pygments_lexer": "ipython3",
   "version": "3.7.0"
  }
 },
 "nbformat": 4,
 "nbformat_minor": 2
}
