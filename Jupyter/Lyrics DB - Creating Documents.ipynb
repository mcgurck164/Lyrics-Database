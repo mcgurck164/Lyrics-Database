{
 "cells": [
  {
   "cell_type": "code",
   "execution_count": 76,
   "metadata": {},
   "outputs": [],
   "source": [
    "# https://automatetheboringstuff.com/chapter13/"
   ]
  },
  {
   "cell_type": "code",
   "execution_count": 77,
   "metadata": {},
   "outputs": [],
   "source": [
    "ARTIST = \"The Gaslight Anthem\"\n",
    "SONG = \"I'da Called You Woody, Joe\"\n",
    "ALBUM = \"Sink or Swim\"\n",
    "YEAR = \"2007\"\n",
    "HTML = \"\"\"I was crawling around in my head in the haze of a trance<br>\n",
    "        Rico said, \"I'ma turn you onto a sound, cool out your head<br>\n",
    "        This is the sound from Camden town.\"<br>\n",
    "        <br>\n",
    "        And then I heard it like a shot from my skull to my brain<br>\n",
    "        I felt my fingertips tingle and it started to rain<br>\n",
    "        When the walls of my bedroom were tremblin' around me<br>\n",
    "        This ramshackle voice over attack of a blues beat<br>\n",
    "        Tellin' me \"He's only looking for fun\"<br>\n",
    "        <br>\n",
    "        And this was the sound of the very last gang in town<br>\n",
    "        As heard by my wild young heart like directions on a cold dark night<br>\n",
    "        Sayin' \"Let it out, let it out, let it out <br>\n",
    "        You're doin' all right.\"<br>\n",
    "        <br>\n",
    "        And I heard it in his chain gang soul<br>\n",
    "        How it wasn't just the same sad song<br>\n",
    "        Sayin' \"Let it out, let it out, let it out<br>\n",
    "        You're doin' all right.\"<br>\n",
    "        <br>\n",
    "        And I carried these songs like a comfort wherever I'd go<br>\n",
    "        And they was there when my summers was high <br>\n",
    "        And there when she left me alone.<br>\n",
    "        Saying, \"the soul is hard to find\"<br>\n",
    "        <br>\n",
    "        And I never got to tell him so I just wrote it down<br>\n",
    "        I wrapped a couple chords around it and I let it come out<br>\n",
    "        When the walls of my bedroom trembled around me<br>\n",
    "        This ramshackle voice over attack of a blues beat<br>\n",
    "        And a girl, on the excitement gang<br>\n",
    "        <br>\n",
    "        And this was the sound of the very last gang in town<br>\n",
    "        As heard by my wild young heart like directions on a cold dark night<br>\n",
    "        Sayin', \"Let it out, let it out, let it out <br>\n",
    "        You're doin' all right.\"<br>\n",
    "        <br>\n",
    "        And I heard it in his chain gang soul<br>\n",
    "        How it wasn't just the same sad song<br>\n",
    "        Sayin', \"Let it out, let it out, let it out<br>\n",
    "        You're doin' all right.\"<br>\n",
    "        <br>\n",
    "        That was the sound<br>\n",
    "        I hear the sound<br>\n",
    "        Do you hear the sound?<br>\n",
    "        I hear the sound<br>\n",
    "        Of the very last gang in town\"\"\""
   ]
  },
  {
   "cell_type": "code",
   "execution_count": 78,
   "metadata": {},
   "outputs": [],
   "source": [
    "import docx"
   ]
  },
  {
   "cell_type": "code",
   "execution_count": 79,
   "metadata": {},
   "outputs": [],
   "source": [
    "doc = docx.Document()"
   ]
  },
  {
   "cell_type": "code",
   "execution_count": 80,
   "metadata": {},
   "outputs": [],
   "source": [
    "header0 = SONG\n",
    "header1 = f\"{ARTIST} ({ALBUM} - {YEAR})\"\n",
    "doc.add_heading(header0, 0)\n",
    "doc.add_heading(header1, 1)\n",
    "p = doc.add_paragraph(\"\");"
   ]
  },
  {
   "cell_type": "code",
   "execution_count": 81,
   "metadata": {},
   "outputs": [
    {
     "data": {
      "text/plain": [
       "<docx.text.paragraph.Paragraph at 0x116ca0b0>"
      ]
     },
     "execution_count": 81,
     "metadata": {},
     "output_type": "execute_result"
    }
   ],
   "source": [
    "lines = HTML.split(\"<br>\")\n",
    "for line in lines:\n",
    "    p = doc.add_paragraph(line.strip())\n",
    "    p.paragraph_format.space_after = 0\n",
    "doc.add_page_break()"
   ]
  },
  {
   "cell_type": "code",
   "execution_count": 82,
   "metadata": {},
   "outputs": [],
   "source": [
    "doc.save(\"test.docx\")"
   ]
  },
  {
   "cell_type": "code",
   "execution_count": 83,
   "metadata": {},
   "outputs": [],
   "source": [
    "import sys\n",
    "import os\n",
    "import comtypes.client"
   ]
  },
  {
   "cell_type": "code",
   "execution_count": 84,
   "metadata": {},
   "outputs": [],
   "source": [
    "in_file = os.getcwd() + \"\\\\test.docx\" #os.path.abspath(sys.argv[1])\n",
    "out_file = os.getcwd() + \"\\\\test.pdf\""
   ]
  },
  {
   "cell_type": "code",
   "execution_count": 85,
   "metadata": {},
   "outputs": [
    {
     "data": {
      "text/plain": [
       "0"
      ]
     },
     "execution_count": 85,
     "metadata": {},
     "output_type": "execute_result"
    }
   ],
   "source": [
    "word = comtypes.client.CreateObject(\"Word.Application\")\n",
    "doc = word.Documents.Open(in_file)\n",
    "doc.SaveAs(out_file, FileFormat=17)\n",
    "doc.Close()\n",
    "word.Quit()"
   ]
  },
  {
   "cell_type": "code",
   "execution_count": 87,
   "metadata": {},
   "outputs": [
    {
     "data": {
      "text/plain": [
       "'.docx'"
      ]
     },
     "execution_count": 87,
     "metadata": {},
     "output_type": "execute_result"
    }
   ],
   "source": [
    "s = \"test.docx\"\n",
    "s[-5:]"
   ]
  },
  {
   "cell_type": "code",
   "execution_count": null,
   "metadata": {},
   "outputs": [],
   "source": []
  }
 ],
 "metadata": {
  "kernelspec": {
   "display_name": "Python 3",
   "language": "python",
   "name": "python3"
  },
  "language_info": {
   "codemirror_mode": {
    "name": "ipython",
    "version": 3
   },
   "file_extension": ".py",
   "mimetype": "text/x-python",
   "name": "python",
   "nbconvert_exporter": "python",
   "pygments_lexer": "ipython3",
   "version": "3.7.0"
  }
 },
 "nbformat": 4,
 "nbformat_minor": 2
}
