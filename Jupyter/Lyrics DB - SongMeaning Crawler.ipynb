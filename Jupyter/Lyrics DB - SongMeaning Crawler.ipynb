{
 "cells": [
  {
   "cell_type": "code",
   "execution_count": 1,
   "metadata": {},
   "outputs": [],
   "source": [
    "import requests\n",
    "import bs4\n",
    "import re\n",
    "import pandas as pd"
   ]
  },
  {
   "cell_type": "code",
   "execution_count": 2,
   "metadata": {},
   "outputs": [],
   "source": [
    "def get_html(url):\n",
    "    res = requests.get(url)\n",
    "    res.encoding = 'utf-8'\n",
    "    res.raise_for_status()\n",
    "    return res.text"
   ]
  },
  {
   "cell_type": "code",
   "execution_count": 3,
   "metadata": {},
   "outputs": [],
   "source": [
    "ARTIST = \"The Gaslight Anthem\"\n",
    "BASE_URL = \"https://songmeanings.com/\"\n",
    "ARTIST_URL = BASE_URL + \"artist/view/discography/137438979128/\"\n",
    "html = get_html(ARTIST_URL)"
   ]
  },
  {
   "cell_type": "code",
   "execution_count": 4,
   "metadata": {},
   "outputs": [],
   "source": [
    "soup = bs4.BeautifulSoup(html, \"lxml\")"
   ]
  },
  {
   "cell_type": "code",
   "execution_count": 17,
   "metadata": {},
   "outputs": [],
   "source": [
    "t1 = type(soup.select(\"div.album-holder.albums-list\"))\n",
    "t2 = type(soup.find_all(\"div\", class_=\"album-holder albums-list\")[0])"
   ]
  },
  {
   "cell_type": "code",
   "execution_count": 18,
   "metadata": {},
   "outputs": [
    {
     "name": "stdout",
     "output_type": "stream",
     "text": [
      "<class 'list'>, <class 'bs4.element.Tag'>\n"
     ]
    }
   ],
   "source": [
    "print(f\"{t1}, {t2}\")"
   ]
  },
  {
   "cell_type": "code",
   "execution_count": 37,
   "metadata": {},
   "outputs": [],
   "source": [
    "e = soup.find_all(\"div\", class_=\"album-holder albums-list\")[0]"
   ]
  },
  {
   "cell_type": "code",
   "execution_count": 38,
   "metadata": {},
   "outputs": [
    {
     "data": {
      "text/plain": [
       "'American Slang'"
      ]
     },
     "execution_count": 38,
     "metadata": {},
     "output_type": "execute_result"
    }
   ],
   "source": [
    "album_title = e.find(\"h3\").getText()\n",
    "album_title"
   ]
  },
  {
   "cell_type": "code",
   "execution_count": 42,
   "metadata": {},
   "outputs": [
    {
     "data": {
      "text/plain": [
       "'/albums/view/tracks/247039/'"
      ]
     },
     "execution_count": 42,
     "metadata": {},
     "output_type": "execute_result"
    }
   ],
   "source": [
    "link = e.find(\"a\").get_attribute_list(\"href\")[0]\n",
    "link"
   ]
  },
  {
   "cell_type": "code",
   "execution_count": 49,
   "metadata": {},
   "outputs": [
    {
     "data": {
      "text/plain": [
       "'2010-06-15'"
      ]
     },
     "execution_count": 49,
     "metadata": {},
     "output_type": "execute_result"
    }
   ],
   "source": [
    "date = e.find(\"ul\", class_=\"albumlist\").find_all(\"li\")[0].getText()\n",
    "date"
   ]
  },
  {
   "cell_type": "code",
   "execution_count": 51,
   "metadata": {},
   "outputs": [
    {
     "data": {
      "text/plain": [
       "'2010'"
      ]
     },
     "execution_count": 51,
     "metadata": {},
     "output_type": "execute_result"
    }
   ],
   "source": [
    "date[:4]"
   ]
  },
  {
   "cell_type": "code",
   "execution_count": 62,
   "metadata": {},
   "outputs": [],
   "source": [
    "def get_albums(soup):\n",
    "    albums = soup.find_all(\"div\", class_=\"album-holder albums-list\")\n",
    "    df = pd.DataFrame()\n",
    "    for album in albums:\n",
    "        title = album.find(\"h3\").getText()\n",
    "        year = album.find(\"ul\", class_=\"albumlist\").find(\"li\").getText()[:4]\n",
    "        link = album.find(\"a\").get_attribute_list(\"href\")[0]\n",
    "        series = pd.Series({\"Title\": title, \"Year\": year, \"Link\": link})\n",
    "        df = df.append(series, ignore_index=True)\n",
    "    return df.sort_values(by=\"Year\")"
   ]
  },
  {
   "cell_type": "code",
   "execution_count": 63,
   "metadata": {},
   "outputs": [],
   "source": [
    "df = get_albums(soup)"
   ]
  },
  {
   "cell_type": "code",
   "execution_count": 64,
   "metadata": {},
   "outputs": [],
   "source": [
    "df[\"Link\"] = BASE_URL[:-1] + df[\"Link\"]"
   ]
  },
  {
   "cell_type": "code",
   "execution_count": 83,
   "metadata": {},
   "outputs": [],
   "source": [
    "def get_songs(albums):\n",
    "    df = pd.DataFrame()\n",
    "    for idx, row in albums.iterrows():\n",
    "        link = row[\"Link\"]\n",
    "        html = get_html(link)\n",
    "        soup = bs4.BeautifulSoup(html, \"lxml\")\n",
    "        songs = soup.find(\"table\").find_all(\"a\")\n",
    "        for song in songs:\n",
    "            link = song.get_attribute_list(\"href\")[0]\n",
    "            title = song.get_attribute_list(\"title\")[0]\n",
    "            series = pd.Series({\"Title\": title, \n",
    "                                \"Link\": link,\n",
    "                                \"Album\": row[\"Title\"],\n",
    "                                \"Year\": row[\"Year\"]})\n",
    "            df = df.append(series, ignore_index=True)\n",
    "    return df        "
   ]
  },
  {
   "cell_type": "code",
   "execution_count": 85,
   "metadata": {},
   "outputs": [],
   "source": [
    "songs = get_songs(df)"
   ]
  },
  {
   "cell_type": "code",
   "execution_count": 97,
   "metadata": {},
   "outputs": [],
   "source": [
    "songs[\"Link\"] = \"https:\" + songs[\"Link\"]"
   ]
  },
  {
   "cell_type": "code",
   "execution_count": 106,
   "metadata": {},
   "outputs": [],
   "source": [
    "def get_lyrics(link_to_song):\n",
    "    html = get_html(link_to_song)\n",
    "    soup = bs4.BeautifulSoup(html, \"lxml\")\n",
    "    lyrics = soup.find(\"div\", class_=\"holder lyric-box\").getText().strip()\n",
    "    end = lyrics.find(\"Edit Lyrics\")\n",
    "    return text[:end]    "
   ]
  },
  {
   "cell_type": "code",
   "execution_count": null,
   "metadata": {
    "collapsed": true
   },
   "outputs": [],
   "source": [
    "songs[\"Lyrics\"] = songs[\"Link\"].apply(get_lyrics)"
   ]
  },
  {
   "cell_type": "code",
   "execution_count": 96,
   "metadata": {},
   "outputs": [],
   "source": [
    "song_link = songs[\"Link\"].iloc[10]"
   ]
  },
  {
   "cell_type": "code",
   "execution_count": 99,
   "metadata": {},
   "outputs": [
    {
     "data": {
      "text/plain": [
       "\"\\n\\t\\t\\t\\t\\t\\tLet it ride, let it ride, let it roll off your mind\\nDon't say a single world, get back inside\\nLet me drive, let me drive, disappear in the night\\nLike I was a ghost in your dreams\\n\\nAnd it was all completely wrong, Virginia\\nYou were much too much for me\\nI was a boy on the lawn, with his eyes to the sky\\nYou were Garbo, smoke, and deceit\\n\\nAnd it was Saturday, September, and fire\\nIt was a backdrop set in your smile\\nIt was all I could want in the sway of the song\\nI was haunted for so many years\\n\\nLet it ride, let it ride, let it roll off your mind\\nDon't say a single world, get back inside\\nLet me drive, let me drive, disappear in the night\\nLike I was a ghost in your dreams\\n\\nSay goodbye, say goodbye, give a kiss and a sigh\\nNever, never, never bring me back to your mind\\nLet it slide, slide, roll off your mind\\nLike I was a movie you'd seen\\n\\nAnd it was all just a crime, Virginia\\nLet your fire be mercy to me\\nI was a boy in your arms, safe in your arms\\nAnd you swore like a promise to me\\n\\nThat I would never, never, never leave your heart\\nNo I would never, never, never leave your heart\\nBut where are you now, I can still feel you now \\nAnd I hear all your songs in the breeze\\n\\nLet it ride, let it ride, let it roll off your mind\\nDon't say a single world, get back inside\\nLet me drive, let me drive, disappear in the night\\nLike I was a ghost in your dreams\\n\\nSay goodbye, say goodbye, give a kiss and a sigh\\nNever, never, never bring me back to your mind\\nLet me slide, slide, roll off your mind\\nLike I was a movie you'd seen\\n\\nLet it ride\\nEdit Lyrics\\nEdit Wiki\\nAdd Video\\n eval(ez_write_tag([[336,280],'songmeanings_com-medrectangle-4','ezslot_3',102,'0']));\""
      ]
     },
     "execution_count": 99,
     "metadata": {},
     "output_type": "execute_result"
    }
   ],
   "source": [
    "html = get_html(song_link)\n",
    "soup = bs4.BeautifulSoup(html, \"lxml\")"
   ]
  },
  {
   "cell_type": "code",
   "execution_count": 101,
   "metadata": {},
   "outputs": [],
   "source": [
    "e = soup.find(\"div\", class_=\"holder lyric-box\")"
   ]
  },
  {
   "cell_type": "code",
   "execution_count": 108,
   "metadata": {},
   "outputs": [],
   "source": [
    "text = e.getText().strip()\n",
    "end = text.find(\"Edit Lyrics\")\n",
    "\n",
    "lyrics = text[:end]"
   ]
  },
  {
   "cell_type": "code",
   "execution_count": 133,
   "metadata": {},
   "outputs": [],
   "source": [
    "songs[\"Lyrics\"] = lyrics"
   ]
  },
  {
   "cell_type": "code",
   "execution_count": 134,
   "metadata": {},
   "outputs": [],
   "source": [
    "songs[\"Artist\"] = ARTIST"
   ]
  },
  {
   "cell_type": "code",
   "execution_count": 135,
   "metadata": {},
   "outputs": [],
   "source": [
    "import os\n",
    "songs.to_csv(os.getcwd()+\"//songs.csv\", index=False)"
   ]
  },
  {
   "cell_type": "code",
   "execution_count": 136,
   "metadata": {},
   "outputs": [],
   "source": [
    "test = pd.read_csv(os.getcwd()+\"//songs.csv\")"
   ]
  },
  {
   "cell_type": "code",
   "execution_count": 137,
   "metadata": {},
   "outputs": [
    {
     "name": "stdout",
     "output_type": "stream",
     "text": [
      "Let it ride, let it ride, let it roll off your mind\r\n",
      "Don't say a single world, get back inside\r\n",
      "Let me drive, let me drive, disappear in the night\r\n",
      "Like I was a ghost in your dreams\r\n",
      "\r\n",
      "And it was all completely wrong, Virginia\r\n",
      "You were much too much for me\r\n",
      "I was a boy on the lawn, with his eyes to the sky\r\n",
      "You were Garbo, smoke, and deceit\r\n",
      "\r\n",
      "And it was Saturday, September, and fire\r\n",
      "It was a backdrop set in your smile\r\n",
      "It was all I could want in the sway of the song\r\n",
      "I was haunted for so many years\r\n",
      "\r\n",
      "Let it ride, let it ride, let it roll off your mind\r\n",
      "Don't say a single world, get back inside\r\n",
      "Let me drive, let me drive, disappear in the night\r\n",
      "Like I was a ghost in your dreams\r\n",
      "\r\n",
      "Say goodbye, say goodbye, give a kiss and a sigh\r\n",
      "Never, never, never bring me back to your mind\r\n",
      "Let it slide, slide, roll off your mind\r\n",
      "Like I was a movie you'd seen\r\n",
      "\r\n",
      "And it was all just a crime, Virginia\r\n",
      "Let your fire be mercy to me\r\n",
      "I was a boy in your arms, safe in your arms\r\n",
      "And you swore like a promise to me\r\n",
      "\r\n",
      "That I would never, never, never leave your heart\r\n",
      "No I would never, never, never leave your heart\r\n",
      "But where are you now, I can still feel you now \r\n",
      "And I hear all your songs in the breeze\r\n",
      "\r\n",
      "Let it ride, let it ride, let it roll off your mind\r\n",
      "Don't say a single world, get back inside\r\n",
      "Let me drive, let me drive, disappear in the night\r\n",
      "Like I was a ghost in your dreams\r\n",
      "\r\n",
      "Say goodbye, say goodbye, give a kiss and a sigh\r\n",
      "Never, never, never bring me back to your mind\r\n",
      "Let me slide, slide, roll off your mind\r\n",
      "Like I was a movie you'd seen\r\n",
      "\r\n",
      "Let it ride\r\n",
      "\n"
     ]
    }
   ],
   "source": [
    "print(test[\"Lyrics\"][0])"
   ]
  },
  {
   "cell_type": "code",
   "execution_count": 116,
   "metadata": {},
   "outputs": [
    {
     "data": {
      "text/html": [
       "<div>\n",
       "<style scoped>\n",
       "    .dataframe tbody tr th:only-of-type {\n",
       "        vertical-align: middle;\n",
       "    }\n",
       "\n",
       "    .dataframe tbody tr th {\n",
       "        vertical-align: top;\n",
       "    }\n",
       "\n",
       "    .dataframe thead th {\n",
       "        text-align: right;\n",
       "    }\n",
       "</style>\n",
       "<table border=\"1\" class=\"dataframe\">\n",
       "  <thead>\n",
       "    <tr style=\"text-align: right;\">\n",
       "      <th></th>\n",
       "      <th>Album</th>\n",
       "      <th>Link</th>\n",
       "      <th>Title</th>\n",
       "      <th>Year</th>\n",
       "      <th>Lyrics</th>\n",
       "    </tr>\n",
       "  </thead>\n",
       "  <tbody>\n",
       "    <tr>\n",
       "      <th>0</th>\n",
       "      <td>Señor and the Queen - EP</td>\n",
       "      <td>https:https://songmeanings.com/songs/view/3530...</td>\n",
       "      <td>Senor and the Queen</td>\n",
       "      <td>2008</td>\n",
       "      <td>Let it ride, let it ride, let it roll off your...</td>\n",
       "    </tr>\n",
       "    <tr>\n",
       "      <th>1</th>\n",
       "      <td>Señor and the Queen - EP</td>\n",
       "      <td>https:https://songmeanings.com/songs/view/3530...</td>\n",
       "      <td>Wherefore Art Thou, Elvis?</td>\n",
       "      <td>2008</td>\n",
       "      <td>Let it ride, let it ride, let it roll off your...</td>\n",
       "    </tr>\n",
       "    <tr>\n",
       "      <th>2</th>\n",
       "      <td>Señor and the Queen - EP</td>\n",
       "      <td>https:https://songmeanings.com/songs/view/3530...</td>\n",
       "      <td>Say I Won't (Recognize)</td>\n",
       "      <td>2008</td>\n",
       "      <td>Let it ride, let it ride, let it roll off your...</td>\n",
       "    </tr>\n",
       "    <tr>\n",
       "      <th>3</th>\n",
       "      <td>Señor and the Queen - EP</td>\n",
       "      <td>https:https://songmeanings.com/songs/view/3530...</td>\n",
       "      <td>Blue Jeans and White T-Shirts</td>\n",
       "      <td>2008</td>\n",
       "      <td>Let it ride, let it ride, let it roll off your...</td>\n",
       "    </tr>\n",
       "    <tr>\n",
       "      <th>4</th>\n",
       "      <td>Sink or Swim</td>\n",
       "      <td>https:https://songmeanings.com/songs/view/3530...</td>\n",
       "      <td>Boomboxes and Dictionaries</td>\n",
       "      <td>2008</td>\n",
       "      <td>Let it ride, let it ride, let it roll off your...</td>\n",
       "    </tr>\n",
       "  </tbody>\n",
       "</table>\n",
       "</div>"
      ],
      "text/plain": [
       "                      Album  \\\n",
       "0  Señor and the Queen - EP   \n",
       "1  Señor and the Queen - EP   \n",
       "2  Señor and the Queen - EP   \n",
       "3  Señor and the Queen - EP   \n",
       "4              Sink or Swim   \n",
       "\n",
       "                                                Link  \\\n",
       "0  https:https://songmeanings.com/songs/view/3530...   \n",
       "1  https:https://songmeanings.com/songs/view/3530...   \n",
       "2  https:https://songmeanings.com/songs/view/3530...   \n",
       "3  https:https://songmeanings.com/songs/view/3530...   \n",
       "4  https:https://songmeanings.com/songs/view/3530...   \n",
       "\n",
       "                           Title  Year  \\\n",
       "0            Senor and the Queen  2008   \n",
       "1     Wherefore Art Thou, Elvis?  2008   \n",
       "2        Say I Won't (Recognize)  2008   \n",
       "3  Blue Jeans and White T-Shirts  2008   \n",
       "4     Boomboxes and Dictionaries  2008   \n",
       "\n",
       "                                              Lyrics  \n",
       "0  Let it ride, let it ride, let it roll off your...  \n",
       "1  Let it ride, let it ride, let it roll off your...  \n",
       "2  Let it ride, let it ride, let it roll off your...  \n",
       "3  Let it ride, let it ride, let it roll off your...  \n",
       "4  Let it ride, let it ride, let it roll off your...  "
      ]
     },
     "execution_count": 116,
     "metadata": {},
     "output_type": "execute_result"
    }
   ],
   "source": [
    "songs.head()"
   ]
  },
  {
   "cell_type": "code",
   "execution_count": 129,
   "metadata": {},
   "outputs": [],
   "source": [
    "s = \"10.10.2019\""
   ]
  },
  {
   "cell_type": "code",
   "execution_count": 130,
   "metadata": {},
   "outputs": [],
   "source": [
    "try:\n",
    "    year = int(s)\n",
    "except ValueError:\n",
    "    year = 0"
   ]
  },
  {
   "cell_type": "code",
   "execution_count": 131,
   "metadata": {},
   "outputs": [
    {
     "data": {
      "text/plain": [
       "0"
      ]
     },
     "execution_count": 131,
     "metadata": {},
     "output_type": "execute_result"
    }
   ],
   "source": [
    "year"
   ]
  },
  {
   "cell_type": "code",
   "execution_count": 132,
   "metadata": {},
   "outputs": [
    {
     "data": {
      "text/plain": [
       "False"
      ]
     },
     "execution_count": 132,
     "metadata": {},
     "output_type": "execute_result"
    }
   ],
   "source": [
    "s.isnumeric()"
   ]
  },
  {
   "cell_type": "code",
   "execution_count": 138,
   "metadata": {},
   "outputs": [
    {
     "data": {
      "text/html": [
       "<div>\n",
       "<style scoped>\n",
       "    .dataframe tbody tr th:only-of-type {\n",
       "        vertical-align: middle;\n",
       "    }\n",
       "\n",
       "    .dataframe tbody tr th {\n",
       "        vertical-align: top;\n",
       "    }\n",
       "\n",
       "    .dataframe thead th {\n",
       "        text-align: right;\n",
       "    }\n",
       "</style>\n",
       "<table border=\"1\" class=\"dataframe\">\n",
       "  <thead>\n",
       "    <tr style=\"text-align: right;\">\n",
       "      <th></th>\n",
       "      <th>Album</th>\n",
       "      <th>Link</th>\n",
       "      <th>Title</th>\n",
       "      <th>Year</th>\n",
       "      <th>Lyrics</th>\n",
       "      <th>Artist</th>\n",
       "    </tr>\n",
       "  </thead>\n",
       "  <tbody>\n",
       "    <tr>\n",
       "      <th>count</th>\n",
       "      <td>81</td>\n",
       "      <td>81</td>\n",
       "      <td>81</td>\n",
       "      <td>81</td>\n",
       "      <td>81</td>\n",
       "      <td>81</td>\n",
       "    </tr>\n",
       "    <tr>\n",
       "      <th>unique</th>\n",
       "      <td>8</td>\n",
       "      <td>76</td>\n",
       "      <td>76</td>\n",
       "      <td>5</td>\n",
       "      <td>1</td>\n",
       "      <td>1</td>\n",
       "    </tr>\n",
       "    <tr>\n",
       "      <th>top</th>\n",
       "      <td>Get Hurt</td>\n",
       "      <td>https:https://songmeanings.com/songs/view/3530...</td>\n",
       "      <td>The '59 Sound</td>\n",
       "      <td>2014</td>\n",
       "      <td>Let it ride, let it ride, let it roll off your...</td>\n",
       "      <td>The Gaslight Anthem</td>\n",
       "    </tr>\n",
       "    <tr>\n",
       "      <th>freq</th>\n",
       "      <td>16</td>\n",
       "      <td>2</td>\n",
       "      <td>2</td>\n",
       "      <td>26</td>\n",
       "      <td>81</td>\n",
       "      <td>81</td>\n",
       "    </tr>\n",
       "  </tbody>\n",
       "</table>\n",
       "</div>"
      ],
      "text/plain": [
       "           Album                                               Link  \\\n",
       "count         81                                                 81   \n",
       "unique         8                                                 76   \n",
       "top     Get Hurt  https:https://songmeanings.com/songs/view/3530...   \n",
       "freq          16                                                  2   \n",
       "\n",
       "                Title  Year  \\\n",
       "count              81    81   \n",
       "unique             76     5   \n",
       "top     The '59 Sound  2014   \n",
       "freq                2    26   \n",
       "\n",
       "                                                   Lyrics               Artist  \n",
       "count                                                  81                   81  \n",
       "unique                                                  1                    1  \n",
       "top     Let it ride, let it ride, let it roll off your...  The Gaslight Anthem  \n",
       "freq                                                   81                   81  "
      ]
     },
     "execution_count": 138,
     "metadata": {},
     "output_type": "execute_result"
    }
   ],
   "source": [
    "songs.describe()"
   ]
  },
  {
   "cell_type": "code",
   "execution_count": 139,
   "metadata": {},
   "outputs": [
    {
     "name": "stdout",
     "output_type": "stream",
     "text": [
      "<class 'pandas.core.frame.DataFrame'>\n",
      "RangeIndex: 81 entries, 0 to 80\n",
      "Data columns (total 6 columns):\n",
      "Album     81 non-null object\n",
      "Link      81 non-null object\n",
      "Title     81 non-null object\n",
      "Year      81 non-null object\n",
      "Lyrics    81 non-null object\n",
      "Artist    81 non-null object\n",
      "dtypes: object(6)\n",
      "memory usage: 1.9+ KB\n"
     ]
    }
   ],
   "source": [
    "songs.info()"
   ]
  },
  {
   "cell_type": "code",
   "execution_count": 144,
   "metadata": {},
   "outputs": [
    {
     "data": {
      "text/html": [
       "<div>\n",
       "<style scoped>\n",
       "    .dataframe tbody tr th:only-of-type {\n",
       "        vertical-align: middle;\n",
       "    }\n",
       "\n",
       "    .dataframe tbody tr th {\n",
       "        vertical-align: top;\n",
       "    }\n",
       "\n",
       "    .dataframe thead th {\n",
       "        text-align: right;\n",
       "    }\n",
       "</style>\n",
       "<table border=\"1\" class=\"dataframe\">\n",
       "  <thead>\n",
       "    <tr style=\"text-align: right;\">\n",
       "      <th></th>\n",
       "      <th>Album</th>\n",
       "      <th>Link</th>\n",
       "      <th>Title</th>\n",
       "      <th>Year</th>\n",
       "      <th>Lyrics</th>\n",
       "      <th>Artist</th>\n",
       "    </tr>\n",
       "  </thead>\n",
       "  <tbody>\n",
       "    <tr>\n",
       "      <th>38</th>\n",
       "      <td>Handwritten</td>\n",
       "      <td>https:https://songmeanings.com/songs/view/3530...</td>\n",
       "      <td></td>\n",
       "      <td>2012</td>\n",
       "      <td>Let it ride, let it ride, let it roll off your...</td>\n",
       "      <td>The Gaslight Anthem</td>\n",
       "    </tr>\n",
       "    <tr>\n",
       "      <th>39</th>\n",
       "      <td>Handwritten</td>\n",
       "      <td>https:https://songmeanings.com/songs/view/3530...</td>\n",
       "      <td>Handwritten</td>\n",
       "      <td>2012</td>\n",
       "      <td>Let it ride, let it ride, let it roll off your...</td>\n",
       "      <td>The Gaslight Anthem</td>\n",
       "    </tr>\n",
       "    <tr>\n",
       "      <th>40</th>\n",
       "      <td>Handwritten</td>\n",
       "      <td>https:https://songmeanings.com/songs/view/3530...</td>\n",
       "      <td>Here Comes My Man</td>\n",
       "      <td>2012</td>\n",
       "      <td>Let it ride, let it ride, let it roll off your...</td>\n",
       "      <td>The Gaslight Anthem</td>\n",
       "    </tr>\n",
       "    <tr>\n",
       "      <th>41</th>\n",
       "      <td>Handwritten</td>\n",
       "      <td>https:https://songmeanings.com/songs/view/3530...</td>\n",
       "      <td>Mulholland Drive</td>\n",
       "      <td>2012</td>\n",
       "      <td>Let it ride, let it ride, let it roll off your...</td>\n",
       "      <td>The Gaslight Anthem</td>\n",
       "    </tr>\n",
       "    <tr>\n",
       "      <th>42</th>\n",
       "      <td>Handwritten</td>\n",
       "      <td>https:https://songmeanings.com/songs/view/3530...</td>\n",
       "      <td>Keepsake</td>\n",
       "      <td>2012</td>\n",
       "      <td>Let it ride, let it ride, let it roll off your...</td>\n",
       "      <td>The Gaslight Anthem</td>\n",
       "    </tr>\n",
       "    <tr>\n",
       "      <th>43</th>\n",
       "      <td>Handwritten</td>\n",
       "      <td>https:https://songmeanings.com/songs/view/3530...</td>\n",
       "      <td>Too Much Blood</td>\n",
       "      <td>2012</td>\n",
       "      <td>Let it ride, let it ride, let it roll off your...</td>\n",
       "      <td>The Gaslight Anthem</td>\n",
       "    </tr>\n",
       "    <tr>\n",
       "      <th>44</th>\n",
       "      <td>Handwritten</td>\n",
       "      <td>https:https://songmeanings.com/songs/view/3530...</td>\n",
       "      <td>Howl</td>\n",
       "      <td>2012</td>\n",
       "      <td>Let it ride, let it ride, let it roll off your...</td>\n",
       "      <td>The Gaslight Anthem</td>\n",
       "    </tr>\n",
       "    <tr>\n",
       "      <th>45</th>\n",
       "      <td>Handwritten</td>\n",
       "      <td>https:https://songmeanings.com/songs/view/3530...</td>\n",
       "      <td>Biloxi Parish</td>\n",
       "      <td>2012</td>\n",
       "      <td>Let it ride, let it ride, let it roll off your...</td>\n",
       "      <td>The Gaslight Anthem</td>\n",
       "    </tr>\n",
       "    <tr>\n",
       "      <th>46</th>\n",
       "      <td>Handwritten</td>\n",
       "      <td>https:https://songmeanings.com/songs/view/3530...</td>\n",
       "      <td>Desire</td>\n",
       "      <td>2012</td>\n",
       "      <td>Let it ride, let it ride, let it roll off your...</td>\n",
       "      <td>The Gaslight Anthem</td>\n",
       "    </tr>\n",
       "    <tr>\n",
       "      <th>47</th>\n",
       "      <td>Handwritten</td>\n",
       "      <td>https:https://songmeanings.com/songs/view/3530...</td>\n",
       "      <td>Mae</td>\n",
       "      <td>2012</td>\n",
       "      <td>Let it ride, let it ride, let it roll off your...</td>\n",
       "      <td>The Gaslight Anthem</td>\n",
       "    </tr>\n",
       "    <tr>\n",
       "      <th>48</th>\n",
       "      <td>Handwritten</td>\n",
       "      <td>https:https://songmeanings.com/songs/view/3530...</td>\n",
       "      <td>National Anthem</td>\n",
       "      <td>2012</td>\n",
       "      <td>Let it ride, let it ride, let it roll off your...</td>\n",
       "      <td>The Gaslight Anthem</td>\n",
       "    </tr>\n",
       "    <tr>\n",
       "      <th>49</th>\n",
       "      <td>Handwritten</td>\n",
       "      <td>https:https://songmeanings.com/songs/view/3530...</td>\n",
       "      <td>Blue Dahlia</td>\n",
       "      <td>2012</td>\n",
       "      <td>Let it ride, let it ride, let it roll off your...</td>\n",
       "      <td>The Gaslight Anthem</td>\n",
       "    </tr>\n",
       "    <tr>\n",
       "      <th>50</th>\n",
       "      <td>Handwritten</td>\n",
       "      <td>https:https://songmeanings.com/songs/view/3530...</td>\n",
       "      <td>Sliver (Nirvana cover)</td>\n",
       "      <td>2012</td>\n",
       "      <td>Let it ride, let it ride, let it roll off your...</td>\n",
       "      <td>The Gaslight Anthem</td>\n",
       "    </tr>\n",
       "    <tr>\n",
       "      <th>51</th>\n",
       "      <td>Handwritten</td>\n",
       "      <td>https:https://songmeanings.com/songs/view/3530...</td>\n",
       "      <td>You Got Lucky (Tom Petty cover)</td>\n",
       "      <td>2012</td>\n",
       "      <td>Let it ride, let it ride, let it roll off your...</td>\n",
       "      <td>The Gaslight Anthem</td>\n",
       "    </tr>\n",
       "    <tr>\n",
       "      <th>52</th>\n",
       "      <td>Handwritten</td>\n",
       "      <td>https:https://songmeanings.com/songs/view/3530...</td>\n",
       "      <td>Teenage Rebellion</td>\n",
       "      <td>2012</td>\n",
       "      <td>Let it ride, let it ride, let it roll off your...</td>\n",
       "      <td>The Gaslight Anthem</td>\n",
       "    </tr>\n",
       "  </tbody>\n",
       "</table>\n",
       "</div>"
      ],
      "text/plain": [
       "          Album                                               Link  \\\n",
       "38  Handwritten  https:https://songmeanings.com/songs/view/3530...   \n",
       "39  Handwritten  https:https://songmeanings.com/songs/view/3530...   \n",
       "40  Handwritten  https:https://songmeanings.com/songs/view/3530...   \n",
       "41  Handwritten  https:https://songmeanings.com/songs/view/3530...   \n",
       "42  Handwritten  https:https://songmeanings.com/songs/view/3530...   \n",
       "43  Handwritten  https:https://songmeanings.com/songs/view/3530...   \n",
       "44  Handwritten  https:https://songmeanings.com/songs/view/3530...   \n",
       "45  Handwritten  https:https://songmeanings.com/songs/view/3530...   \n",
       "46  Handwritten  https:https://songmeanings.com/songs/view/3530...   \n",
       "47  Handwritten  https:https://songmeanings.com/songs/view/3530...   \n",
       "48  Handwritten  https:https://songmeanings.com/songs/view/3530...   \n",
       "49  Handwritten  https:https://songmeanings.com/songs/view/3530...   \n",
       "50  Handwritten  https:https://songmeanings.com/songs/view/3530...   \n",
       "51  Handwritten  https:https://songmeanings.com/songs/view/3530...   \n",
       "52  Handwritten  https:https://songmeanings.com/songs/view/3530...   \n",
       "\n",
       "                              Title  Year  \\\n",
       "38                                   2012   \n",
       "39                      Handwritten  2012   \n",
       "40                Here Comes My Man  2012   \n",
       "41                 Mulholland Drive  2012   \n",
       "42                         Keepsake  2012   \n",
       "43                   Too Much Blood  2012   \n",
       "44                             Howl  2012   \n",
       "45                    Biloxi Parish  2012   \n",
       "46                           Desire  2012   \n",
       "47                              Mae  2012   \n",
       "48                  National Anthem  2012   \n",
       "49                      Blue Dahlia  2012   \n",
       "50           Sliver (Nirvana cover)  2012   \n",
       "51  You Got Lucky (Tom Petty cover)  2012   \n",
       "52                Teenage Rebellion  2012   \n",
       "\n",
       "                                               Lyrics               Artist  \n",
       "38  Let it ride, let it ride, let it roll off your...  The Gaslight Anthem  \n",
       "39  Let it ride, let it ride, let it roll off your...  The Gaslight Anthem  \n",
       "40  Let it ride, let it ride, let it roll off your...  The Gaslight Anthem  \n",
       "41  Let it ride, let it ride, let it roll off your...  The Gaslight Anthem  \n",
       "42  Let it ride, let it ride, let it roll off your...  The Gaslight Anthem  \n",
       "43  Let it ride, let it ride, let it roll off your...  The Gaslight Anthem  \n",
       "44  Let it ride, let it ride, let it roll off your...  The Gaslight Anthem  \n",
       "45  Let it ride, let it ride, let it roll off your...  The Gaslight Anthem  \n",
       "46  Let it ride, let it ride, let it roll off your...  The Gaslight Anthem  \n",
       "47  Let it ride, let it ride, let it roll off your...  The Gaslight Anthem  \n",
       "48  Let it ride, let it ride, let it roll off your...  The Gaslight Anthem  \n",
       "49  Let it ride, let it ride, let it roll off your...  The Gaslight Anthem  \n",
       "50  Let it ride, let it ride, let it roll off your...  The Gaslight Anthem  \n",
       "51  Let it ride, let it ride, let it roll off your...  The Gaslight Anthem  \n",
       "52  Let it ride, let it ride, let it roll off your...  The Gaslight Anthem  "
      ]
     },
     "execution_count": 144,
     "metadata": {},
     "output_type": "execute_result"
    }
   ],
   "source": [
    "songs[songs.Album==\"Handwritten\"]"
   ]
  },
  {
   "cell_type": "code",
   "execution_count": 145,
   "metadata": {},
   "outputs": [
    {
     "data": {
      "text/html": [
       "<div>\n",
       "<style scoped>\n",
       "    .dataframe tbody tr th:only-of-type {\n",
       "        vertical-align: middle;\n",
       "    }\n",
       "\n",
       "    .dataframe tbody tr th {\n",
       "        vertical-align: top;\n",
       "    }\n",
       "\n",
       "    .dataframe thead th {\n",
       "        text-align: right;\n",
       "    }\n",
       "</style>\n",
       "<table border=\"1\" class=\"dataframe\">\n",
       "  <thead>\n",
       "    <tr style=\"text-align: right;\">\n",
       "      <th></th>\n",
       "      <th>Album</th>\n",
       "      <th>Link</th>\n",
       "      <th>Title</th>\n",
       "      <th>Year</th>\n",
       "      <th>Lyrics</th>\n",
       "      <th>Artist</th>\n",
       "    </tr>\n",
       "  </thead>\n",
       "  <tbody>\n",
       "    <tr>\n",
       "      <th>38</th>\n",
       "      <td>Handwritten</td>\n",
       "      <td>https:https://songmeanings.com/songs/view/3530...</td>\n",
       "      <td></td>\n",
       "      <td>2012</td>\n",
       "      <td>Let it ride, let it ride, let it roll off your...</td>\n",
       "      <td>The Gaslight Anthem</td>\n",
       "    </tr>\n",
       "  </tbody>\n",
       "</table>\n",
       "</div>"
      ],
      "text/plain": [
       "          Album                                               Link Title  \\\n",
       "38  Handwritten  https:https://songmeanings.com/songs/view/3530...         \n",
       "\n",
       "    Year                                             Lyrics  \\\n",
       "38  2012  Let it ride, let it ride, let it roll off your...   \n",
       "\n",
       "                 Artist  \n",
       "38  The Gaslight Anthem  "
      ]
     },
     "execution_count": 145,
     "metadata": {},
     "output_type": "execute_result"
    }
   ],
   "source": [
    "songs[songs.Title==\"\"]"
   ]
  },
  {
   "cell_type": "code",
   "execution_count": 146,
   "metadata": {},
   "outputs": [],
   "source": [
    "link = \"https://songmeanings.com/albums/view/tracks/275356/\""
   ]
  },
  {
   "cell_type": "code",
   "execution_count": 147,
   "metadata": {},
   "outputs": [],
   "source": [
    "html = get_html(link)\n",
    "soup = bs4.BeautifulSoup(html, \"lxml\")\n",
    "songs = soup.find(\"table\").find_all(\"a\")\n",
    "# for song in songs:\n",
    "#     link = song.get_attribute_list(\"href\")[0]\n",
    "#     title = song.get_attribute_list(\"title\")[0]\n",
    "#     series = pd.Series({\"Title\": title, \n",
    "#                         \"Link\": link,\n",
    "#                         \"Album\": row[\"Title\"],\n",
    "#                         \"Year\": row[\"Year\"]})\n",
    "#     df = df.append(series, ignore_index=True"
   ]
  },
  {
   "cell_type": "code",
   "execution_count": 150,
   "metadata": {},
   "outputs": [
    {
     "data": {
      "text/plain": [
       "'\"45\"'"
      ]
     },
     "execution_count": 150,
     "metadata": {},
     "output_type": "execute_result"
    }
   ],
   "source": [
    "songs[0].getText().strip()"
   ]
  },
  {
   "cell_type": "code",
   "execution_count": null,
   "metadata": {},
   "outputs": [],
   "source": []
  }
 ],
 "metadata": {
  "kernelspec": {
   "display_name": "Python 3",
   "language": "python",
   "name": "python3"
  },
  "language_info": {
   "codemirror_mode": {
    "name": "ipython",
    "version": 3
   },
   "file_extension": ".py",
   "mimetype": "text/x-python",
   "name": "python",
   "nbconvert_exporter": "python",
   "pygments_lexer": "ipython3",
   "version": "3.7.0"
  }
 },
 "nbformat": 4,
 "nbformat_minor": 2
}
