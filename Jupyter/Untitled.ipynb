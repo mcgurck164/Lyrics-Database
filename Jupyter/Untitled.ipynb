{
 "cells": [
  {
   "cell_type": "code",
   "execution_count": 1,
   "metadata": {},
   "outputs": [],
   "source": [
    "import requests\n",
    "import bs4"
   ]
  },
  {
   "cell_type": "code",
   "execution_count": 6,
   "metadata": {},
   "outputs": [],
   "source": [
    "URL = \"https://www.azlyrics.com/g/gaslightanthem.html\""
   ]
  },
  {
   "cell_type": "code",
   "execution_count": 7,
   "metadata": {},
   "outputs": [],
   "source": [
    "def get_html(url):\n",
    "    res = requests.get(url)\n",
    "    res.raise_for_status()\n",
    "    return res.text"
   ]
  },
  {
   "cell_type": "code",
   "execution_count": 8,
   "metadata": {},
   "outputs": [],
   "source": [
    "def get_discography(url):\n",
    "    soup = bs4.BeautifulSoup(get_html(URL), features=\"lxml\")\n",
    "    albums = soup.select(\".album\") # returns a list of bs4.element.Tag\n",
    "    \n",
    "    return albums"
   ]
  },
  {
   "cell_type": "code",
   "execution_count": 10,
   "metadata": {},
   "outputs": [
    {
     "name": "stdout",
     "output_type": "stream",
     "text": [
      "album: \"Sink Or Swim\" (2007)\n",
      "EP: \"SeÃ±or And The Queen\" (2008)\n",
      "album: \"The '59 Sound\" (2008)\n",
      "album: \"American Slang\" (2010)\n",
      "album: \"Handwritten\" (2012)\n",
      "album: \"Get Hurt\" (2014)\n",
      "other songs:\n"
     ]
    }
   ],
   "source": [
    "albums = get_discography(URL)\n",
    "for a in albums:\n",
    "    print(a.getText())"
   ]
  },
  {
   "cell_type": "code",
   "execution_count": 11,
   "metadata": {},
   "outputs": [],
   "source": [
    "html = get_html(URL)"
   ]
  },
  {
   "cell_type": "code",
   "execution_count": 93,
   "metadata": {},
   "outputs": [],
   "source": [
    "def find_album_position(html, album):\n",
    "    album = album.replace(' \"', ' <b>\"').replace('\" ', '\"</b> ')\n",
    "        # album: <b>\"Sink Or Swim\"</b> (2007)    \n",
    "    return html.find(album)\n",
    "def find_song_position(html, song):\n",
    "    song = song + \"</a>\"\n",
    "        # song: The '59 Sound</a>\n",
    "    return html.find(song)"
   ]
  },
  {
   "cell_type": "code",
   "execution_count": 94,
   "metadata": {},
   "outputs": [],
   "source": [
    "soup = bs4.BeautifulSoup(html, \"lxml\")\n",
    "\n",
    "albums = soup.select(\"#listAlbum .album\")\n",
    "albums = [item.text.strip() for item in albums]\n",
    "albums = dict([(album, find_album_position(html, album)) for album in albums])\n",
    "\n",
    "songs = soup.select(\"#listAlbum a\")\n",
    "songs = [item.text.strip() for item in songs]\n",
    "songs = dict([(song, find_song_position(html, song)) for song in songs])\n"
   ]
  },
  {
   "cell_type": "code",
   "execution_count": 95,
   "metadata": {},
   "outputs": [
    {
     "data": {
      "text/plain": [
       "{'album: \"Sink Or Swim\" (2007)': 6721,\n",
       " 'EP: \"SeÃ±or And The Queen\" (2008)': 8009,\n",
       " 'album: \"The \\'59 Sound\" (2008)': 8528,\n",
       " 'album: \"American Slang\" (2010)': 9954,\n",
       " 'album: \"Handwritten\" (2012)': 11128,\n",
       " 'album: \"Get Hurt\" (2014)': 12734,\n",
       " 'other songs:': 14639}"
      ]
     },
     "execution_count": 95,
     "metadata": {},
     "output_type": "execute_result"
    }
   ],
   "source": [
    "albums"
   ]
  }
 ],
 "metadata": {
  "kernelspec": {
   "display_name": "Python 3",
   "language": "python",
   "name": "python3"
  },
  "language_info": {
   "codemirror_mode": {
    "name": "ipython",
    "version": 3
   },
   "file_extension": ".py",
   "mimetype": "text/x-python",
   "name": "python",
   "nbconvert_exporter": "python",
   "pygments_lexer": "ipython3",
   "version": "3.7.0"
  }
 },
 "nbformat": 4,
 "nbformat_minor": 2
}
